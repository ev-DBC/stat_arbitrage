{
 "cells": [
  {
   "cell_type": "code",
   "execution_count": 16,
   "metadata": {},
   "outputs": [],
   "source": [
    "import pandas as pd\n",
    "import numpy as np\n",
    "import math\n",
    "import tools\n",
    "from datetime import date\n",
    "import matplotlib.pyplot as plt\n",
    "import scipy.integrate as integrate\n",
    "import scipy.optimize as opt"
   ]
  },
  {
   "cell_type": "code",
   "execution_count": 17,
   "metadata": {},
   "outputs": [],
   "source": [
    "plt.style.use(['dark_background'])\n",
    "pd.options.display.max_rows = 20"
   ]
  },
  {
   "cell_type": "markdown",
   "metadata": {},
   "source": [
    "**Import and dataframe setup**"
   ]
  },
  {
   "cell_type": "code",
   "execution_count": 18,
   "metadata": {},
   "outputs": [
    {
     "name": "stdout",
     "output_type": "stream",
     "text": [
      "Dataframe header:\n"
     ]
    },
    {
     "data": {
      "text/html": [
       "<div>\n",
       "<style scoped>\n",
       "    .dataframe tbody tr th:only-of-type {\n",
       "        vertical-align: middle;\n",
       "    }\n",
       "\n",
       "    .dataframe tbody tr th {\n",
       "        vertical-align: top;\n",
       "    }\n",
       "\n",
       "    .dataframe thead th {\n",
       "        text-align: right;\n",
       "    }\n",
       "</style>\n",
       "<table border=\"1\" class=\"dataframe\">\n",
       "  <thead>\n",
       "    <tr style=\"text-align: right;\">\n",
       "      <th></th>\n",
       "      <th>Timestringnum</th>\n",
       "      <th>Timestamp1</th>\n",
       "      <th>BidHOc2</th>\n",
       "      <th>BidLGOc6</th>\n",
       "      <th>AskHOc2</th>\n",
       "      <th>AskLGOc6</th>\n",
       "      <th>Timestamp2</th>\n",
       "      <th>TradeVolumeHOc2</th>\n",
       "      <th>TradeVolumeLGOc6</th>\n",
       "    </tr>\n",
       "  </thead>\n",
       "  <tbody>\n",
       "    <tr>\n",
       "      <th>2</th>\n",
       "      <td>42115.145833</td>\n",
       "      <td>2015-04-21 03:30:00</td>\n",
       "      <td>1.8717</td>\n",
       "      <td>587.25</td>\n",
       "      <td>1.8727</td>\n",
       "      <td>587.75</td>\n",
       "      <td>2015-04-21 03:30:00</td>\n",
       "      <td>370</td>\n",
       "      <td>128</td>\n",
       "    </tr>\n",
       "    <tr>\n",
       "      <th>3</th>\n",
       "      <td>42115.166667</td>\n",
       "      <td>2015-04-21 04:00:00</td>\n",
       "      <td>1.8829</td>\n",
       "      <td>590.75</td>\n",
       "      <td>1.8838</td>\n",
       "      <td>591</td>\n",
       "      <td>2015-04-21 04:00:00</td>\n",
       "      <td>418</td>\n",
       "      <td>284</td>\n",
       "    </tr>\n",
       "    <tr>\n",
       "      <th>4</th>\n",
       "      <td>42115.187500</td>\n",
       "      <td>2015-04-21 04:30:00</td>\n",
       "      <td>1.8804</td>\n",
       "      <td>589.25</td>\n",
       "      <td>1.8817</td>\n",
       "      <td>589.75</td>\n",
       "      <td>2015-04-21 04:30:00</td>\n",
       "      <td>84</td>\n",
       "      <td>338</td>\n",
       "    </tr>\n",
       "    <tr>\n",
       "      <th>5</th>\n",
       "      <td>42115.208333</td>\n",
       "      <td>2015-04-21 05:00:00</td>\n",
       "      <td>1.8722</td>\n",
       "      <td>587</td>\n",
       "      <td>1.874</td>\n",
       "      <td>587.5</td>\n",
       "      <td>2015-04-21 05:00:00</td>\n",
       "      <td>480</td>\n",
       "      <td>15</td>\n",
       "    </tr>\n",
       "    <tr>\n",
       "      <th>6</th>\n",
       "      <td>42115.229167</td>\n",
       "      <td>2015-04-21 05:30:00</td>\n",
       "      <td>1.8772</td>\n",
       "      <td>588.75</td>\n",
       "      <td>1.8784</td>\n",
       "      <td>589</td>\n",
       "      <td>2015-04-21 05:30:00</td>\n",
       "      <td>67</td>\n",
       "      <td>35</td>\n",
       "    </tr>\n",
       "  </tbody>\n",
       "</table>\n",
       "</div>"
      ],
      "text/plain": [
       "   Timestringnum           Timestamp1 BidHOc2 BidLGOc6 AskHOc2 AskLGOc6  \\\n",
       "2   42115.145833  2015-04-21 03:30:00  1.8717   587.25  1.8727   587.75   \n",
       "3   42115.166667  2015-04-21 04:00:00  1.8829   590.75  1.8838      591   \n",
       "4   42115.187500  2015-04-21 04:30:00  1.8804   589.25  1.8817   589.75   \n",
       "5   42115.208333  2015-04-21 05:00:00  1.8722      587   1.874    587.5   \n",
       "6   42115.229167  2015-04-21 05:30:00  1.8772   588.75  1.8784      589   \n",
       "\n",
       "            Timestamp2 TradeVolumeHOc2 TradeVolumeLGOc6  \n",
       "2  2015-04-21 03:30:00             370              128  \n",
       "3  2015-04-21 04:00:00             418              284  \n",
       "4  2015-04-21 04:30:00              84              338  \n",
       "5  2015-04-21 05:00:00             480               15  \n",
       "6  2015-04-21 05:30:00              67               35  "
      ]
     },
     "execution_count": 18,
     "metadata": {},
     "output_type": "execute_result"
    }
   ],
   "source": [
    "df = pd.read_excel('HO-LGO.xlsm')\n",
    "df = df.drop([0,1])\n",
    "df = df.drop(df.columns[[4, 5, 8]],axis=1)\n",
    "df.columns = ['Timestringnum','Timestamp1','BidHOc2','BidLGOc6','AskHOc2','AskLGOc6','Timestamp2','TradeVolumeHOc2','TradeVolumeLGOc6']\n",
    "print('Dataframe header:')\n",
    "df.head()"
   ]
  },
  {
   "cell_type": "markdown",
   "metadata": {},
   "source": [
    "**Test/train set splitting**  \n",
    "IS sample is used for calibration, and OS sample is used for testing the strategy"
   ]
  },
  {
   "cell_type": "code",
   "execution_count": 19,
   "metadata": {},
   "outputs": [],
   "source": [
    "time_shift = 693594\n",
    "datesIS = [date(2015,4,22),date(2016,1,21)] #IS dates\n",
    "datesOS = [date(2016,1,22),date(2016,4,21)] #OS dates\n",
    "[IS,OS] = tools.rightdays(df,time_shift,datesIS,datesOS)"
   ]
  },
  {
   "cell_type": "markdown",
   "metadata": {},
   "source": [
    "**Trading hours selection**  \n",
    "In the IS sample the 09:00-16:00 timewindow is used, when the market is the most liquid. In the OS sample all data is used, except the17:00-20:00 time window"
   ]
  },
  {
   "cell_type": "code",
   "execution_count": 20,
   "metadata": {},
   "outputs": [
    {
     "name": "stdout",
     "output_type": "stream",
     "text": [
      "IS size: 2893\n",
      "OS size: 2752\n"
     ]
    }
   ],
   "source": [
    "hoursIS = [9,16]\n",
    "ISS = tools.righthoursIS(IS,hoursIS)\n",
    "hoursOS = [17,20]\n",
    "OSS = tools.righthoursOS(OS,hoursOS)\n",
    "print('IS size:',ISS.shape[0])\n",
    "print('OS size:',OSS.shape[0]) "
   ]
  },
  {
   "cell_type": "markdown",
   "metadata": {},
   "source": [
    "**Log ratio computation**  \n"
   ]
  },
  {
   "cell_type": "code",
   "execution_count": 22,
   "metadata": {},
   "outputs": [],
   "source": [
    "conversionHO = 42\n",
    "conversionLGO = 7.44\n",
    "ISS['logratio'] = tools.logratio(ISS,conversionHO,conversionLGO)\n",
    "OSS['logratio'] = tools.logratio(OSS,conversionHO,conversionLGO)"
   ]
  },
  {
   "cell_type": "markdown",
   "metadata": {},
   "source": [
    "**Outliers computation**  \n"
   ]
  },
  {
   "cell_type": "code",
   "execution_count": 23,
   "metadata": {},
   "outputs": [
    {
     "name": "stdout",
     "output_type": "stream",
     "text": [
      "New IS size: 2892\n",
      "IS outliers:\n"
     ]
    },
    {
     "data": {
      "text/html": [
       "<div>\n",
       "<style scoped>\n",
       "    .dataframe tbody tr th:only-of-type {\n",
       "        vertical-align: middle;\n",
       "    }\n",
       "\n",
       "    .dataframe tbody tr th {\n",
       "        vertical-align: top;\n",
       "    }\n",
       "\n",
       "    .dataframe thead th {\n",
       "        text-align: right;\n",
       "    }\n",
       "</style>\n",
       "<table border=\"1\" class=\"dataframe\">\n",
       "  <thead>\n",
       "    <tr style=\"text-align: right;\">\n",
       "      <th></th>\n",
       "      <th>Timestringnum</th>\n",
       "      <th>Timestamp1</th>\n",
       "      <th>BidHOc2</th>\n",
       "      <th>BidLGOc6</th>\n",
       "      <th>AskHOc2</th>\n",
       "      <th>AskLGOc6</th>\n",
       "      <th>Timestamp2</th>\n",
       "      <th>TradeVolumeHOc2</th>\n",
       "      <th>TradeVolumeLGOc6</th>\n",
       "      <th>logratio</th>\n",
       "    </tr>\n",
       "  </thead>\n",
       "  <tbody>\n",
       "    <tr>\n",
       "      <th>2487</th>\n",
       "      <td>42188.520833</td>\n",
       "      <td>2015-07-03 12:30:00</td>\n",
       "      <td>1.81</td>\n",
       "      <td>570.75</td>\n",
       "      <td>1.954</td>\n",
       "      <td>572</td>\n",
       "      <td>2015-07-06 09:30:00</td>\n",
       "      <td>1142</td>\n",
       "      <td>1865</td>\n",
       "      <td>0.02883</td>\n",
       "    </tr>\n",
       "  </tbody>\n",
       "</table>\n",
       "</div>"
      ],
      "text/plain": [
       "      Timestringnum           Timestamp1 BidHOc2 BidLGOc6 AskHOc2 AskLGOc6  \\\n",
       "2487   42188.520833  2015-07-03 12:30:00    1.81   570.75   1.954      572   \n",
       "\n",
       "               Timestamp2 TradeVolumeHOc2 TradeVolumeLGOc6  logratio  \n",
       "2487  2015-07-06 09:30:00            1142             1865   0.02883  "
      ]
     },
     "metadata": {},
     "output_type": "display_data"
    },
    {
     "name": "stdout",
     "output_type": "stream",
     "text": [
      "\n",
      "New OS size: 2751\n",
      "OS outliers:\n"
     ]
    },
    {
     "data": {
      "text/html": [
       "<div>\n",
       "<style scoped>\n",
       "    .dataframe tbody tr th:only-of-type {\n",
       "        vertical-align: middle;\n",
       "    }\n",
       "\n",
       "    .dataframe tbody tr th {\n",
       "        vertical-align: top;\n",
       "    }\n",
       "\n",
       "    .dataframe thead th {\n",
       "        text-align: right;\n",
       "    }\n",
       "</style>\n",
       "<table border=\"1\" class=\"dataframe\">\n",
       "  <thead>\n",
       "    <tr style=\"text-align: right;\">\n",
       "      <th></th>\n",
       "      <th>Timestringnum</th>\n",
       "      <th>Timestamp1</th>\n",
       "      <th>BidHOc2</th>\n",
       "      <th>BidLGOc6</th>\n",
       "      <th>AskHOc2</th>\n",
       "      <th>AskLGOc6</th>\n",
       "      <th>Timestamp2</th>\n",
       "      <th>TradeVolumeHOc2</th>\n",
       "      <th>TradeVolumeLGOc6</th>\n",
       "      <th>logratio</th>\n",
       "    </tr>\n",
       "  </thead>\n",
       "  <tbody>\n",
       "    <tr>\n",
       "      <th>9966</th>\n",
       "      <td>42415.833333</td>\n",
       "      <td>2016-02-15 20:00:00</td>\n",
       "      <td>1.1085</td>\n",
       "      <td>344</td>\n",
       "      <td>1.1096</td>\n",
       "      <td>344.75</td>\n",
       "      <td>2016-02-17 22:00:00</td>\n",
       "      <td>10</td>\n",
       "      <td>70</td>\n",
       "      <td>0.006313</td>\n",
       "    </tr>\n",
       "  </tbody>\n",
       "</table>\n",
       "</div>"
      ],
      "text/plain": [
       "      Timestringnum           Timestamp1 BidHOc2 BidLGOc6 AskHOc2 AskLGOc6  \\\n",
       "9966   42415.833333  2016-02-15 20:00:00  1.1085      344  1.1096   344.75   \n",
       "\n",
       "               Timestamp2 TradeVolumeHOc2 TradeVolumeLGOc6  logratio  \n",
       "9966  2016-02-17 22:00:00              10               70  0.006313  "
      ]
     },
     "metadata": {},
     "output_type": "display_data"
    }
   ],
   "source": [
    "[ISS_OC,OutISS] = tools.outliercheck(ISS)\n",
    "[OSS_OC,OutOSS] = tools.outliercheck(OSS)\n",
    "print('New IS size:',ISS_OC.shape[0])\n",
    "print('IS outliers:')\n",
    "display(OutISS)\n",
    "print('\\nNew OS size:',OSS_OC.shape[0])\n",
    "print('OS outliers:')\n",
    "display(OutOSS)"
   ]
  },
  {
   "cell_type": "markdown",
   "metadata": {},
   "source": [
    "**OU fitting**  \n",
    "Ornstein uhlenbeck process fitting via MLE maximisation"
   ]
  },
  {
   "cell_type": "code",
   "execution_count": 8,
   "metadata": {
    "scrolled": true
   },
   "outputs": [
    {
     "name": "stdout",
     "output_type": "stream",
     "text": [
      "k =  23.274973133862293\n",
      "eta =  -0.00977133242385968\n",
      "sigma =  0.10154168681919348\n"
     ]
    }
   ],
   "source": [
    "bus_days = 253\n",
    "ratio_a_day = 2*(hoursIS[1] - hoursIS[0])+1\n",
    "dt = 1/(bus_days*ratio_a_day)\n",
    "[k, eta, sigma] = tools.MLE_estimator(ISS_OC['logratio'],dt)\n",
    "print('k = ', float(k))\n",
    "print('eta = ', float(eta))\n",
    "print('sigma = ', float(sigma))"
   ]
  },
  {
   "cell_type": "markdown",
   "metadata": {},
   "source": [
    "**Transaction costs estimation**  \n",
    "The model takes log-transaction-costs into account. That quantity is estimated in the `costs` function as the sample mean of the log bid-ask spread."
   ]
  },
  {
   "cell_type": "code",
   "execution_count": 9,
   "metadata": {},
   "outputs": [
    {
     "name": "stdout",
     "output_type": "stream",
     "text": [
      "cost =  0.0013665526482791034\n"
     ]
    }
   ],
   "source": [
    "cost = tools.costs(ISS_OC)\n",
    "print('cost = ', float(cost))"
   ]
  },
  {
   "cell_type": "markdown",
   "metadata": {},
   "source": [
    "**Trading bands**  \n",
    "\n",
    "\n",
    "The advantage of using an OU process lies in the existence of an analytical formula for the long-run return μ. It is therefore possible to maximize μ with respect to $ u $ and $ d $, fixed $ l $ and $ f $, thus characterizing the strategy. Furthermore, remembering that an analytical expression is available, as a function of $ u $ and $ d $, for optimal leverage it is also possible to determine the optimal levels $ u $ and $ d $ that maximize the long-run return, by only fixing the Stop-Loss. Both the μ evaluated in the optimal $ u $ and $ d $ are printed (Current function value to be taken with the inverted sign because we are minimizing -μ to obtain $ u $ and $ d $ that maximize μ) and the trading band for the different leverages considered."
   ]
  },
  {
   "cell_type": "code",
   "execution_count": 10,
   "metadata": {},
   "outputs": [
    {
     "name": "stdout",
     "output_type": "stream",
     "text": [
      "Optimization terminated successfully.\n",
      "         Current function value: -1.845422\n",
      "         Iterations: 61\n",
      "         Function evaluations: 112\n",
      "Leverage 28.225480155607034 :\n",
      "[-1.1064096316008594, 0.29922133992528616] \n",
      "\n",
      "Optimization terminated successfully.\n",
      "         Current function value: -0.633249\n",
      "         Iterations: 61\n",
      "         Function evaluations: 117\n",
      "Leverage 5 :\n",
      "[-0.8517725137545357, 0.5111681911580115] \n",
      "\n",
      "Optimization terminated successfully.\n",
      "         Current function value: -0.271422\n",
      "         Iterations: 62\n",
      "         Function evaluations: 115\n",
      "Leverage 2 :\n",
      "[-0.8628511379017498, 0.5617933591084094] \n",
      "\n",
      "Optimization terminated successfully.\n",
      "         Current function value: -0.138856\n",
      "         Iterations: 65\n",
      "         Function evaluations: 118\n",
      "Leverage 1 :\n",
      "[-0.8693444500681994, 0.5805586875300396] \n",
      "\n"
     ]
    }
   ],
   "source": [
    "SIGMA = sigma/np.sqrt(2*k)\n",
    "theta = 1/k\n",
    "leverage = [-1, 5, 2, 1] \n",
    "loss = -1.96\n",
    "c = cost/SIGMA\n",
    "for item in leverage:\n",
    "    [band,newlev] = tools.long_run(loss,cost,theta,SIGMA,item,c)\n",
    "    if item == -1:\n",
    "        print('Leverage', float(newlev), ':')\n",
    "        print([band[1],band[0]],'\\n')\n",
    "    else:\n",
    "        print('Leverage', item, ':')\n",
    "        print([band[1],band[0]],'\\n')"
   ]
  },
  {
   "cell_type": "markdown",
   "metadata": {},
   "source": [
    "**Statistical Bootstrap**  \n",
    "\n",
    "The `generateOU` function takes advantage of the markovianity of an OU process to generate a * time-serie *. Generating N samples and recalibrating each of them with the `MLE_estimator` results in the * parameters * list containing N lists with their parameters. Similarly, for each simulation, the optimal trading bands are determined for the different leverages considered (* bands *)."
   ]
  },
  {
   "cell_type": "code",
   "execution_count": null,
   "metadata": {},
   "outputs": [],
   "source": [
    "N_sample = 100 #1e4 simulazioni effettive da fare. 100 fissato per limitare il tempo di esecuzione\n",
    "x0 = ISS_OC['logratio'].iloc[0]\n",
    "N_steps = ISS_OC.shape[0]\n",
    "parameters,bands = tools.statisticalbootstrap(k,eta,sigma,dt,N_sample,N_steps,x0,leverage,loss,cost,c)"
   ]
  },
  {
   "cell_type": "markdown",
   "metadata": {},
   "source": [
    "**Confidence intervals**  \n"
   ]
  },
  {
   "cell_type": "code",
   "execution_count": 25,
   "metadata": {},
   "outputs": [
    {
     "name": "stdout",
     "output_type": "stream",
     "text": [
      "IC for model parameters:\n",
      "\n",
      "k: [16.26426118 46.05296613]\n",
      "eta: [-0.0184491   0.00078501]\n",
      "sigma: [0.09894285 0.10366479]\n",
      "\n",
      "IC with optimal leverage:\n",
      "\n",
      "levopt: [23.89139186 39.25834702]\n",
      "U: [0.29686882 0.30077254]\n",
      "D: [-1.10800232 -1.10540031]\n",
      "\n",
      "IC leverage 1:\n",
      "\n",
      "U: [0.58055869 0.58055869]\n",
      "D: [-0.86934445 -0.86934445]\n",
      "\n",
      "IC leverage 2:\n",
      "\n",
      "U: [0.55847407 0.56690456]\n",
      "D: [-0.86445796 -0.86189124]\n",
      "\n",
      "IC leverage 5:\n",
      "\n",
      "U: [0.50013235 0.52915228]\n",
      "D: [-0.85427464 -0.85117604]\n"
     ]
    }
   ],
   "source": [
    "confidence = [2.5,97.5]\n",
    "IC_k = np.percentile([lis[0] for lis in parameters] ,confidence) \n",
    "IC_eta = np.percentile([lis[1] for lis in parameters] ,confidence) \n",
    "IC_sigma = np.percentile([lis[2] for lis in parameters] ,confidence)\n",
    "\n",
    "IC_Uopt = np.percentile([lis[0][0] for lis in bands[0]] ,confidence) \n",
    "IC_Dopt = np.percentile([lis[0][1] for lis in bands[0]] ,confidence) \n",
    "IC_levopt = np.percentile([lis[1] for lis in bands[0]] ,confidence) \n",
    "\n",
    "IC_U5 = np.percentile([lis[0][0] for lis in bands[1]] ,confidence) \n",
    "IC_D5 = np.percentile([lis[0][1] for lis in bands[1]] ,confidence) \n",
    "\n",
    "IC_U2 = np.percentile([lis[0][0] for lis in bands[2]] ,confidence) \n",
    "IC_D2 = np.percentile([lis[0][1] for lis in bands[2]] ,confidence)  \n",
    "\n",
    "IC_U1 = np.percentile([lis[0][0] for lis in bands[3]] ,confidence) \n",
    "IC_D1 = np.percentile([lis[0][1] for lis in bands[3]] ,confidence) \n",
    "\n",
    "print('IC for model parameters:\\n')\n",
    "print('k:',IC_k)\n",
    "print('eta:',IC_eta)\n",
    "print('sigma:',IC_sigma)\n",
    "print('\\nIC with optimal leverage:\\n')\n",
    "print('levopt:',IC_levopt)\n",
    "print('U:',IC_Uopt)\n",
    "print('D:',IC_Dopt)\n",
    "print('\\nIC leverage 1:\\n')\n",
    "print('U:',IC_U1)\n",
    "print('D:',IC_D1)\n",
    "print('\\nIC leverage 2:\\n')\n",
    "print('U:',IC_U2)\n",
    "print('D:',IC_D2)\n",
    "print('\\nIC leverage 5:\\n')\n",
    "print('U:',IC_U5)\n",
    "print('D:',IC_D5)"
   ]
  },
  {
   "cell_type": "markdown",
   "metadata": {},
   "source": [
    "**Trading strategy application**  \n",
    "The `tradingStrategy` is applied on the OS dataframe, with a leverage equal to 1"
   ]
  },
  {
   "cell_type": "code",
   "execution_count": 13,
   "metadata": {},
   "outputs": [
    {
     "name": "stdout",
     "output_type": "stream",
     "text": [
      "mu =  0.33281024754876354\n"
     ]
    }
   ],
   "source": [
    "L = loss*SIGMA\n",
    "U = band[0]*SIGMA\n",
    "D = band[1]*SIGMA\n",
    "time_strategy = 0.2530\n",
    "W0 = 1\n",
    "[mu_OS,Wt,check_in,check_out] = tools.tradingStrategy(U,D,L,leverage[3],W0,time_strategy,OSS_OC,cost,eta)\n",
    "print('mu = ', float(mu_OS))"
   ]
  },
  {
   "cell_type": "markdown",
   "metadata": {},
   "source": [
    "**Plot preparation**"
   ]
  },
  {
   "cell_type": "code",
   "execution_count": 14,
   "metadata": {},
   "outputs": [],
   "source": [
    "#Open positions and close position\n",
    "openi = [lis[0] for lis in check_in] \n",
    "openp = [lis[1] for lis in check_in] \n",
    "closei = [lis[0] for lis in check_out] \n",
    "closep = [lis[1] for lis in check_out] \n",
    "#Trading band\n",
    "t = np.arange(0,OSS.shape[0],10)\n",
    "Ll = np.full(len(t),loss*SIGMA+eta)\n",
    "Ls = np.full(len(t),-loss*SIGMA+eta)\n",
    "Dl = np.full(len(t),band[1]*SIGMA+eta)\n",
    "Ds = np.full(len(t),-band[1]*SIGMA+eta)\n",
    "Ul = np.full(len(t),band[0]*SIGMA+eta)\n",
    "Us = np.full(len(t),-band[0]*SIGMA+eta)\n",
    "OSS_OC = OSS_OC.reset_index()"
   ]
  },
  {
   "cell_type": "markdown",
   "metadata": {},
   "source": [
    "**Plot**    \n",
    "Plot of the trading strategy on the OS sample. Vengono messe in evidenza sia le posizioni di apertura e chiusura (long/short) che le trading bands (long/short)."
   ]
  },
  {
   "cell_type": "code",
   "execution_count": 15,
   "metadata": {},
   "outputs": [
    {
     "name": "stderr",
     "output_type": "stream",
     "text": [
      "<ipython-input-15-f256a3d14bf7>:11: UserWarning: FixedFormatter should only be used together with FixedLocator\n",
      "  lab = ax.set_xticklabels(labels)\n"
     ]
    },
    {
     "data": {
      "image/png": "[encoded data removed]",
      "text/plain": [
       "<Figure size 1080x360 with 1 Axes>"
      ]
     },
     "metadata": {},
     "output_type": "display_data"
    }
   ],
   "source": [
    "fig, ax = plt.subplots(figsize=(15,5))\n",
    "plt.style.use('dark_background')\n",
    "plt.plot(OSS_OC['logratio'],color = (1, 0.73, 0.06), linewidth=0.6)\n",
    "plt.plot(openi,openp,'m^',closei,closep,'mv',t,Ll,'r--',t,Ls,'r-.',t,Dl,'g--',t,Ds,'g-.',t,Ul,'c--',t,Us,'c-.')\n",
    "plt.legend(['Logratio','Open','Close','Long SL','Short SL','Long D','Short D','Long U','Short U'])\n",
    "fig.canvas.draw()\n",
    "labels = [item.get_text() for item in ax.get_xticklabels()][0:-1]\n",
    "for i in range(len(labels)-1):\n",
    "    dummie = OSS_OC['Timestamp1'][int(labels[i+1])]\n",
    "    labels[i+1] = dummie.strftime(\"%d\") +' '+ dummie.strftime(\"%B\")\n",
    "lab = ax.set_xticklabels(labels)"
   ]
  },
  {
   "cell_type": "markdown",
   "metadata": {},
   "source": [
    "Application of the trading strategy over the OS data"
   ]
  }
 ],
 "metadata": {
  "kernelspec": {
   "display_name": "Python 3",
   "language": "python",
   "name": "python3"
  },
  "language_info": {
   "codemirror_mode": {
    "name": "ipython",
    "version": 3
   },
   "file_extension": ".py",
   "mimetype": "text/x-python",
   "name": "python",
   "nbconvert_exporter": "python",
   "pygments_lexer": "ipython3",
   "version": "3.8.5"
  }
 },
 "nbformat": 4,
 "nbformat_minor": 4
}
